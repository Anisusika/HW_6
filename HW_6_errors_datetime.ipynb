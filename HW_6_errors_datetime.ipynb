{
 "cells": [
  {
   "cell_type": "markdown",
   "metadata": {},
   "source": [
    "# Задание 1"
   ]
  },
  {
   "cell_type": "code",
   "execution_count": 153,
   "metadata": {},
   "outputs": [],
   "source": [
    "from datetime import datetime"
   ]
  },
  {
   "cell_type": "code",
   "execution_count": 154,
   "metadata": {},
   "outputs": [
    {
     "data": {
      "text/plain": [
       "datetime.datetime(2002, 10, 2, 0, 0)"
      ]
     },
     "execution_count": 154,
     "metadata": {},
     "output_type": "execute_result"
    }
   ],
   "source": [
    "date_TMT = 'Wednesday, October 2, 2002'\n",
    "TMT = datetime.strptime(date_TMT, '%A, %B %d, %Y')\n",
    "TMT"
   ]
  },
  {
   "cell_type": "code",
   "execution_count": 155,
   "metadata": {},
   "outputs": [
    {
     "data": {
      "text/plain": [
       "datetime.datetime(2013, 10, 11, 0, 0)"
      ]
     },
     "execution_count": 155,
     "metadata": {},
     "output_type": "execute_result"
    }
   ],
   "source": [
    "date_TG = 'Friday, 11.10.13'\n",
    "TG = datetime.strptime(date_TG, '%A, %d.%m.%y')\n",
    "TG"
   ]
  },
  {
   "cell_type": "code",
   "execution_count": 156,
   "metadata": {},
   "outputs": [
    {
     "data": {
      "text/plain": [
       "4"
      ]
     },
     "execution_count": 156,
     "metadata": {},
     "output_type": "execute_result"
    }
   ],
   "source": [
    "#проверка, правильный ли день недели - тут, чтобы понять где в дате число, а где месяц\n",
    "TG.weekday()"
   ]
  },
  {
   "cell_type": "code",
   "execution_count": 157,
   "metadata": {},
   "outputs": [
    {
     "data": {
      "text/plain": [
       "datetime.datetime(1977, 8, 18, 0, 0)"
      ]
     },
     "execution_count": 157,
     "metadata": {},
     "output_type": "execute_result"
    }
   ],
   "source": [
    "date_DN = 'Thursday, 18 August 1977'\n",
    "DN = datetime.strptime(date_DN, '%A, %d %B %Y')\n",
    "DN"
   ]
  },
  {
   "cell_type": "markdown",
   "metadata": {},
   "source": [
    "# Задание 2"
   ]
  },
  {
   "cell_type": "code",
   "execution_count": 158,
   "metadata": {},
   "outputs": [],
   "source": [
    "stream = ['2018-04-02', '2018-02-29', '2018-19-02']"
   ]
  },
  {
   "cell_type": "code",
   "execution_count": 159,
   "metadata": {},
   "outputs": [
    {
     "name": "stdout",
     "output_type": "stream",
     "text": [
      "2018-04-02 00:00:00 True (дата корректна)\n",
      "2018-02-29 False (дата не корректна)\n",
      "2018-19-02 False (дата не корректна)\n"
     ]
    }
   ],
   "source": [
    "def day_check(*arg):\n",
    "    for day in stream:\n",
    "        try:\n",
    "            print(datetime.strptime(day, '%Y-%m-%d'), 'True (дата корректна)')\n",
    "        except:\n",
    "            print(day, 'False (дата не корректна)')\n",
    "            \n",
    "day_check(stream)"
   ]
  },
  {
   "cell_type": "code",
   "execution_count": 161,
   "metadata": {},
   "outputs": [],
   "source": [
    "from datetime import timedelta"
   ]
  },
  {
   "cell_type": "code",
   "execution_count": 162,
   "metadata": {},
   "outputs": [
    {
     "name": "stdout",
     "output_type": "stream",
     "text": [
      "Введите начало периода формате YYYY-MM-DD\n",
      "2021-03-21\n",
      "Введите конец периода формате YYYY-MM-DD\n",
      "2021-03-24\n",
      "2021-03-21\n",
      "2021-03-22\n",
      "2021-03-23\n",
      "2021-03-24\n"
     ]
    }
   ],
   "source": [
    "def date_range():\n",
    "    start_date = input('Введите начало периода формате YYYY-MM-DD\\n')\n",
    "    end_date = input('Введите конец периода формате YYYY-MM-DD\\n')\n",
    "\n",
    "    try:\n",
    "        st_d = datetime.strptime(start_date, '%Y-%m-%d')\n",
    "        en_d = datetime.strptime(end_date, '%Y-%m-%d')\n",
    "    \n",
    "        if st_d > en_d:\n",
    "            empty_list = []\n",
    "            print('start_date > end_date\\n', empty_list, sep=\"\")\n",
    "    \n",
    "        while st_d <= en_d:\n",
    "            print(st_d.strftime('%Y-%m-%d'))\n",
    "            st_d += timedelta(days=1)\n",
    "    \n",
    "    except ValueError:\n",
    "        empty_list = []\n",
    "        print('Неверный формат даты\\n',empty_list, sep=\"\")\n",
    "date_range()"
   ]
  },
  {
   "cell_type": "code",
   "execution_count": null,
   "metadata": {},
   "outputs": [],
   "source": []
  }
 ],
 "metadata": {
  "kernelspec": {
   "display_name": "Python 3",
   "language": "python",
   "name": "python3"
  },
  "language_info": {
   "codemirror_mode": {
    "name": "ipython",
    "version": 3
   },
   "file_extension": ".py",
   "mimetype": "text/x-python",
   "name": "python",
   "nbconvert_exporter": "python",
   "pygments_lexer": "ipython3",
   "version": "3.8.5"
  }
 },
 "nbformat": 4,
 "nbformat_minor": 4
}
